{
 "cells": [
  {
   "cell_type": "markdown",
   "metadata": {},
   "source": [
    "# Natural Language Processing: Twitter Sentiment Analysis"
   ]
  },
  {
   "cell_type": "markdown",
   "metadata": {},
   "source": [
    "Twitter is a particularly popular social network in the United States, where as of July 2019, the service had 48.65 million active users. Users on twitter create short messages called tweets to be shared with other twitter users who interact by sharing (retweeting) and / or responding. Twitter employs a message size restriction of 280 characters or less which forces the users to stay focused on the message they wish to disseminate. This very characteristic makes messages from twitter a good candidate for Natural Language Processing (NLP) machine learning tasks like sentiment analysis."
   ]
  },
  {
   "cell_type": "markdown",
   "metadata": {},
   "source": [
    "<font size=3>**\"Something very big has just happened\"**</font>"
   ]
  },
  {
   "cell_type": "markdown",
   "metadata": {},
   "source": [
    "In this project, I attempt to use a Naive Bayes Classifier to extract sentiment analysis from tweets captured on twitter on for the keyword \"Baghdadi\". The tweets are from the day after the United States President Donald Trump confirms death of ISIS leader Abu Bakr al-Baghdadi. This topic is especially interesting because Trump went further than just announcing the raid’s success. He answered questions after his dramatic remarks, divulging an astonishing amount about US intelligence and American military operations that could benefit American adversaries in the future."
   ]
  },
  {
   "cell_type": "markdown",
   "metadata": {},
   "source": [
    "*What effect does killing the leader of a terrorist group like ISIS tend to have?*\n",
    "\n",
    "Twitter users usually took to twitter to voice their opinions and I thought it would be a prime moment to explore the general sentiment of the country towards this political announcement."
   ]
  },
  {
   "cell_type": "markdown",
   "metadata": {},
   "source": [
    "### Preparing The Training Set"
   ]
  },
  {
   "cell_type": "markdown",
   "metadata": {},
   "source": [
    "We will be using a downloadable Training set. The tweets of which were all labeled as positive, neutral or negative, depending on the content.\n",
    "\n",
    "For this task, we will be using the tweet Corpus of over 1.6 million random tweets, as opposed to having humans manual annotate tweets.The paper from Stanford University students can be found [here](#https://cs.stanford.edu/people/alecmgo/papers/TwitterDistantSupervision09.pdf).\n",
    "\n",
    "The corpus includes a the polarity of the tweet(pos/neg/neutral), the id, the date, the query, the user, and the text.You can get the file containing the corpus from this [Sentiment 140 website](#http://help.sentiment140.com/for-students)"
   ]
  },
  {
   "cell_type": "markdown",
   "metadata": {},
   "source": [
    "we’ll use a Naive Bayes Classifier to learn the correct labels from this training set and do a binary classification. The Naive Bayes theorem calculates the probability of a certain event happening based on the joint probabilistic distributions of certain other events."
   ]
  },
  {
   "cell_type": "code",
   "execution_count": 26,
   "metadata": {},
   "outputs": [],
   "source": [
    "import csv\n",
    "import pandas as pd\n",
    "import numpy as np\n",
    "import matplotlib.pyplot as plt\n",
    "%matplotlib inline\n",
    "import seaborn as sns"
   ]
  },
  {
   "cell_type": "code",
   "execution_count": 27,
   "metadata": {},
   "outputs": [
    {
     "data": {
      "text/html": [
       "<div>\n",
       "<style scoped>\n",
       "    .dataframe tbody tr th:only-of-type {\n",
       "        vertical-align: middle;\n",
       "    }\n",
       "\n",
       "    .dataframe tbody tr th {\n",
       "        vertical-align: top;\n",
       "    }\n",
       "\n",
       "    .dataframe thead th {\n",
       "        text-align: right;\n",
       "    }\n",
       "</style>\n",
       "<table border=\"1\" class=\"dataframe\">\n",
       "  <thead>\n",
       "    <tr style=\"text-align: right;\">\n",
       "      <th></th>\n",
       "      <th>label</th>\n",
       "      <th>id</th>\n",
       "      <th>date</th>\n",
       "      <th>query</th>\n",
       "      <th>source</th>\n",
       "      <th>text</th>\n",
       "    </tr>\n",
       "  </thead>\n",
       "  <tbody>\n",
       "    <tr>\n",
       "      <th>0</th>\n",
       "      <td>0</td>\n",
       "      <td>1467810672</td>\n",
       "      <td>Mon Apr 06 22:19:49 PDT 2009</td>\n",
       "      <td>NO_QUERY</td>\n",
       "      <td>scotthamilton</td>\n",
       "      <td>is upset that he can't update his Facebook by ...</td>\n",
       "    </tr>\n",
       "    <tr>\n",
       "      <th>1</th>\n",
       "      <td>0</td>\n",
       "      <td>1467810917</td>\n",
       "      <td>Mon Apr 06 22:19:53 PDT 2009</td>\n",
       "      <td>NO_QUERY</td>\n",
       "      <td>mattycus</td>\n",
       "      <td>@Kenichan I dived many times for the ball. Man...</td>\n",
       "    </tr>\n",
       "  </tbody>\n",
       "</table>\n",
       "</div>"
      ],
      "text/plain": [
       "   label          id                          date     query         source  \\\n",
       "0      0  1467810672  Mon Apr 06 22:19:49 PDT 2009  NO_QUERY  scotthamilton   \n",
       "1      0  1467810917  Mon Apr 06 22:19:53 PDT 2009  NO_QUERY       mattycus   \n",
       "\n",
       "                                                text  \n",
       "0  is upset that he can't update his Facebook by ...  \n",
       "1  @Kenichan I dived many times for the ball. Man...  "
      ]
     },
     "execution_count": 27,
     "metadata": {},
     "output_type": "execute_result"
    }
   ],
   "source": [
    "# load train data\n",
    "data = pd.read_csv('training.1600000.processed.noemoticon.csv', encoding = \"ISO-8859-1\")\n",
    "data.columns = ['label','id','date','query','source','text']\n",
    "data.head(2)"
   ]
  },
  {
   "cell_type": "code",
   "execution_count": 28,
   "metadata": {},
   "outputs": [
    {
     "data": {
      "text/html": [
       "<div>\n",
       "<style scoped>\n",
       "    .dataframe tbody tr th:only-of-type {\n",
       "        vertical-align: middle;\n",
       "    }\n",
       "\n",
       "    .dataframe tbody tr th {\n",
       "        vertical-align: top;\n",
       "    }\n",
       "\n",
       "    .dataframe thead th {\n",
       "        text-align: right;\n",
       "    }\n",
       "</style>\n",
       "<table border=\"1\" class=\"dataframe\">\n",
       "  <thead>\n",
       "    <tr style=\"text-align: right;\">\n",
       "      <th></th>\n",
       "      <th>label</th>\n",
       "      <th>text</th>\n",
       "    </tr>\n",
       "  </thead>\n",
       "  <tbody>\n",
       "    <tr>\n",
       "      <th>0</th>\n",
       "      <td>0</td>\n",
       "      <td>is upset that he can't update his Facebook by ...</td>\n",
       "    </tr>\n",
       "    <tr>\n",
       "      <th>1</th>\n",
       "      <td>0</td>\n",
       "      <td>@Kenichan I dived many times for the ball. Man...</td>\n",
       "    </tr>\n",
       "    <tr>\n",
       "      <th>2</th>\n",
       "      <td>0</td>\n",
       "      <td>my whole body feels itchy and like its on fire</td>\n",
       "    </tr>\n",
       "    <tr>\n",
       "      <th>3</th>\n",
       "      <td>0</td>\n",
       "      <td>@nationwideclass no, it's not behaving at all....</td>\n",
       "    </tr>\n",
       "    <tr>\n",
       "      <th>4</th>\n",
       "      <td>0</td>\n",
       "      <td>@Kwesidei not the whole crew</td>\n",
       "    </tr>\n",
       "    <tr>\n",
       "      <th>5</th>\n",
       "      <td>0</td>\n",
       "      <td>Need a hug</td>\n",
       "    </tr>\n",
       "    <tr>\n",
       "      <th>6</th>\n",
       "      <td>0</td>\n",
       "      <td>@LOLTrish hey  long time no see! Yes.. Rains a...</td>\n",
       "    </tr>\n",
       "    <tr>\n",
       "      <th>7</th>\n",
       "      <td>0</td>\n",
       "      <td>@Tatiana_K nope they didn't have it</td>\n",
       "    </tr>\n",
       "    <tr>\n",
       "      <th>8</th>\n",
       "      <td>0</td>\n",
       "      <td>@twittera que me muera ?</td>\n",
       "    </tr>\n",
       "    <tr>\n",
       "      <th>9</th>\n",
       "      <td>0</td>\n",
       "      <td>spring break in plain city... it's snowing</td>\n",
       "    </tr>\n",
       "  </tbody>\n",
       "</table>\n",
       "</div>"
      ],
      "text/plain": [
       "   label                                               text\n",
       "0      0  is upset that he can't update his Facebook by ...\n",
       "1      0  @Kenichan I dived many times for the ball. Man...\n",
       "2      0    my whole body feels itchy and like its on fire \n",
       "3      0  @nationwideclass no, it's not behaving at all....\n",
       "4      0                      @Kwesidei not the whole crew \n",
       "5      0                                        Need a hug \n",
       "6      0  @LOLTrish hey  long time no see! Yes.. Rains a...\n",
       "7      0               @Tatiana_K nope they didn't have it \n",
       "8      0                          @twittera que me muera ? \n",
       "9      0        spring break in plain city... it's snowing "
      ]
     },
     "execution_count": 28,
     "metadata": {},
     "output_type": "execute_result"
    }
   ],
   "source": [
    "# get text and matching label columns\n",
    "data = data.drop(['id','date','query','source'],axis=1)\n",
    "data.head(10)"
   ]
  },
  {
   "cell_type": "code",
   "execution_count": 29,
   "metadata": {},
   "outputs": [
    {
     "name": "stdout",
     "output_type": "stream",
     "text": [
      "number of negative tagged sentences is:799999\n",
      "number of neutral tagged sentences is: 0\n",
      "number of positive tagged sentences is:800000\n",
      "total length of the data is:           1599999\n"
     ]
    }
   ],
   "source": [
    "# check the number of positive, neutral, and negative tagged sentences\n",
    "negatives = data['label'][data.label == 0]\n",
    "neutral = data['label'][data.label == 2]\n",
    "positive = data['label'][data.label == 4]\n",
    "\n",
    "print('number of negative tagged sentences is:{}'.format(len(negatives)))\n",
    "print('number of neutral tagged sentences is: {}'.format(len(neutral)))\n",
    "print('number of positive tagged sentences is:{}'.format(len(positive)))\n",
    "print('total length of the data is:           {}'.format(data.shape[0]))"
   ]
  },
  {
   "cell_type": "code",
   "execution_count": 30,
   "metadata": {},
   "outputs": [
    {
     "data": {
      "text/html": [
       "<div>\n",
       "<style scoped>\n",
       "    .dataframe tbody tr th:only-of-type {\n",
       "        vertical-align: middle;\n",
       "    }\n",
       "\n",
       "    .dataframe tbody tr th {\n",
       "        vertical-align: top;\n",
       "    }\n",
       "\n",
       "    .dataframe thead th {\n",
       "        text-align: right;\n",
       "    }\n",
       "</style>\n",
       "<table border=\"1\" class=\"dataframe\">\n",
       "  <thead>\n",
       "    <tr style=\"text-align: right;\">\n",
       "      <th></th>\n",
       "      <th>label</th>\n",
       "      <th>text</th>\n",
       "      <th>word count</th>\n",
       "    </tr>\n",
       "  </thead>\n",
       "  <tbody>\n",
       "    <tr>\n",
       "      <th>0</th>\n",
       "      <td>0</td>\n",
       "      <td>is upset that he can't update his Facebook by ...</td>\n",
       "      <td>21</td>\n",
       "    </tr>\n",
       "    <tr>\n",
       "      <th>1</th>\n",
       "      <td>0</td>\n",
       "      <td>@Kenichan I dived many times for the ball. Man...</td>\n",
       "      <td>18</td>\n",
       "    </tr>\n",
       "    <tr>\n",
       "      <th>2</th>\n",
       "      <td>0</td>\n",
       "      <td>my whole body feels itchy and like its on fire</td>\n",
       "      <td>10</td>\n",
       "    </tr>\n",
       "  </tbody>\n",
       "</table>\n",
       "</div>"
      ],
      "text/plain": [
       "   label                                               text  word count\n",
       "0      0  is upset that he can't update his Facebook by ...          21\n",
       "1      0  @Kenichan I dived many times for the ball. Man...          18\n",
       "2      0    my whole body feels itchy and like its on fire           10"
      ]
     },
     "execution_count": 30,
     "metadata": {},
     "output_type": "execute_result"
    }
   ],
   "source": [
    "# get a word count per sentence column\n",
    "def word_count(sentence):\n",
    "    return len(sentence.split())\n",
    "    \n",
    "data['word count'] = data['text'].apply(word_count)\n",
    "data.head(3)"
   ]
  },
  {
   "cell_type": "code",
   "execution_count": 31,
   "metadata": {},
   "outputs": [
    {
     "data": {
      "text/plain": [
       "<matplotlib.legend.Legend at 0x1d0d09b52e8>"
      ]
     },
     "execution_count": 31,
     "metadata": {},
     "output_type": "execute_result"
    },
    {
     "data": {
      "image/png": "[encoded data removed]",
      "text/plain": [
       "<Figure size 864x432 with 1 Axes>"
      ]
     },
     "metadata": {
      "needs_background": "light"
     },
     "output_type": "display_data"
    }
   ],
   "source": [
    "# plot word count distribution for both positive and negative sentiments\n",
    "x = data['word count'][data.label == 0]\n",
    "y = data['word count'][data.label == 4]\n",
    "plt.figure(figsize=(12,6))\n",
    "plt.xlim(0,45)\n",
    "plt.xlabel('word count')\n",
    "plt.ylabel('frequency')\n",
    "g = plt.hist([x, y], color=['y','r'], alpha=0.5, label=['negative','positive'])\n",
    "plt.legend(loc='upper right')"
   ]
  },
  {
   "cell_type": "markdown",
   "metadata": {},
   "source": [
    "we could see that most of the tweets word counts are within 30 words"
   ]
  },
  {
   "cell_type": "code",
   "execution_count": 32,
   "metadata": {},
   "outputs": [
    {
     "data": {
      "text/plain": [
       "[('i', 746635),\n",
       " ('to', 560313),\n",
       " ('the', 518734),\n",
       " ('a', 376421),\n",
       " ('my', 312846),\n",
       " ('and', 295675),\n",
       " ('you', 237765),\n",
       " ('is', 231086),\n",
       " ('for', 214051),\n",
       " ('in', 209960)]"
      ]
     },
     "execution_count": 32,
     "metadata": {},
     "output_type": "execute_result"
    }
   ],
   "source": [
    "from collections import Counter\n",
    "# get most common words in training dataset\n",
    "all_words = []\n",
    "for line in list(data['text']):\n",
    "    words = line.split()\n",
    "    for word in words:\n",
    "        all_words.append(word.lower())\n",
    "    \n",
    "    \n",
    "Counter(all_words).most_common(10)"
   ]
  },
  {
   "cell_type": "code",
   "execution_count": 33,
   "metadata": {},
   "outputs": [
    {
     "data": {
      "image/png": "[encoded data removed]",
      "text/plain": [
       "<Figure size 864x360 with 1 Axes>"
      ]
     },
     "metadata": {
      "needs_background": "light"
     },
     "output_type": "display_data"
    }
   ],
   "source": [
    "import nltk\n",
    "#Below is a graph showing the frequency of the first 25 words.\n",
    "plt.figure(figsize=(12,5))\n",
    "plt.title('Top 25 most common words')\n",
    "plt.xticks(fontsize=13, rotation=90)\n",
    "fd = nltk.FreqDist(all_words)\n",
    "fd.plot(25,cumulative=False)"
   ]
  },
  {
   "cell_type": "markdown",
   "metadata": {},
   "source": [
    "The word distribution present in this data is a very common phenomenon in large samples of words as shown by \"Zipf's law\", where the most frequent word will occur about twice as often as the second most frequent word, three times as often as the third most frequent word, etc."
   ]
  },
  {
   "cell_type": "markdown",
   "metadata": {},
   "source": [
    "### Download Twitter Data through API for Sentiment Analysis"
   ]
  },
  {
   "cell_type": "code",
   "execution_count": 34,
   "metadata": {},
   "outputs": [
    {
     "name": "stdout",
     "output_type": "stream",
     "text": [
      "{\"created_at\": \"Fri Oct 18 03:37:15 +0000 2019\", \"default_profile\": true, \"friends_count\": 20, \"id\": 1185037074384093184, \"id_str\": \"1185037074384093184\", \"name\": \"ming_chi\", \"profile_background_color\": \"F5F8FA\", \"profile_image_url\": \"http://pbs.twimg.com/profile_images/1185037498692624385/6naRt9Jk_normal.jpg\", \"profile_image_url_https\": \"https://pbs.twimg.com/profile_images/1185037498692624385/6naRt9Jk_normal.jpg\", \"profile_link_color\": \"1DA1F2\", \"profile_sidebar_border_color\": \"C0DEED\", \"profile_sidebar_fill_color\": \"DDEEF6\", \"profile_text_color\": \"333333\", \"profile_use_background_image\": true, \"screen_name\": \"mingchi0123\"}\n"
     ]
    }
   ],
   "source": [
    "import twitter\n",
    "\n",
    "# initialize api instance\n",
    "twitter_api = twitter.Api(consumer_key='9TR8xudCGfGpf8pZI0B1q5caN',\n",
    "                        consumer_secret='EA4WiCVwcudtS6aCMOp70HOvN7F4XDTxGvTuoAkl4xsjBimHBe',\n",
    "                        access_token_key='1185037074384093184-8AKwgmu63XWYcG0N8DpDe2vc4dekPh',\n",
    "                        access_token_secret='3Ixk7zKqgniYFy4nXpHKNgGH2f7aNWf4HhrukDzDtwLkc')\n",
    "\n",
    "# test authentication\n",
    "print(twitter_api.VerifyCredentials())\n"
   ]
  },
  {
   "cell_type": "markdown",
   "metadata": {},
   "source": [
    "### Creating the function to build the Test set"
   ]
  },
  {
   "cell_type": "code",
   "execution_count": 45,
   "metadata": {},
   "outputs": [],
   "source": [
    "def buildTestSet(search_keyword):\n",
    "    try:\n",
    "        tweets_fetched = twitter_api.GetSearch(search_keyword, count = 120)\n",
    "        \n",
    "        print(\"Fetched \" + str(len(tweets_fetched)) + \" tweets for the term \" + search_keyword)\n",
    "        \n",
    "        return [{\"text\":status.text, \"label\":None} for status in tweets_fetched]\n",
    "    except:\n",
    "        print(\"Unfortunately, something went wrong..\")\n",
    "        return None"
   ]
  },
  {
   "cell_type": "code",
   "execution_count": 52,
   "metadata": {},
   "outputs": [
    {
     "name": "stdout",
     "output_type": "stream",
     "text": [
      "Enter a search keyword:Baghdadi\n",
      "Fetched 100 tweets for the term Baghdadi\n",
      "[{'text': 'US Special Forces: Knock Knock\\n\\nBaghdadi: Who’s there?\\n\\nUS Special Forces: Alla\\n\\nBaghdadi: Alla who?\\n\\nUS Special Forces: Alla who Akbar 💣', 'label': None}, {'text': 'I’M DISGUSTED! WHAT DISGRACE \\n\\nThe Washington Post called the ISIS leader a Religious Scholar instead of a  Terrori… https://t.co/NFL4eVJLLX', 'label': None}, {'text': 'Law-abiding gun owners are “terrorists” but Baghdadi is an “austere religious scholar.” \\n\\nAsk me again why I criticize some in media.', 'label': None}, {'text': 'RT @StormIsUponUs: Washington Post gushes affectionately over Baghdadi, Democrats silent on Twitter, and movie stars yelling at Trump for i…', 'label': None}, {'text': 'RT @ckkirsch1: I DON’T KNOW ABOUT YOU AMERICA,BUT I HAVE HAD ENOUGH OF THE BLATANT UNAMERICAN BS FROM WAPO. CANCEL ALL SUBSCRIPTIONS &amp; SUE…', 'label': None}]\n"
     ]
    }
   ],
   "source": [
    "search_term = input(\"Enter a search keyword:\")\n",
    "testDataSet = buildTestSet(search_term)\n",
    "\n",
    "print(testDataSet[0:5])"
   ]
  },
  {
   "cell_type": "code",
   "execution_count": 53,
   "metadata": {},
   "outputs": [
    {
     "name": "stdout",
     "output_type": "stream",
     "text": [
      "tweet number: 0 If according to #WashingtonPost .... Abu al Baghdadi ... was an Austere Religious Scholar, then according to philos… https://t.co/furLJnjt3T New Delhi, India\n",
      "tweet number: 1 If according to #WashingtonPost .... Abu al Baghdadi ... was an Austere Religious Scholar, then according to philos… https://t.co/W7Nf1PxDJ7 New Delhi, India\n",
      "tweet number: 2 @MrMubinShaikh @AmarAmarasingam @ColinPClarke @ForeignPolicy If I'm not mistaken Mubin, #Baghdadi's successor will… https://t.co/WVcbkUsn8Q Roseburg, OR\n"
     ]
    }
   ],
   "source": [
    "import tweepy\n",
    "from tweepy import OAuthHandler\n",
    "\n",
    "consumer_key='9TR8xudCGfGpf8pZI0B1q5caN'\n",
    "consumer_secret='EA4WiCVwcudtS6aCMOp70HOvN7F4XDTxGvTuoAkl4xsjBimHBe'\n",
    "access_token='1185037074384093184-8AKwgmu63XWYcG0N8DpDe2vc4dekPh'\n",
    "access_token_secret='3Ixk7zKqgniYFy4nXpHKNgGH2f7aNWf4HhrukDzDtwLkc'\n",
    "\n",
    "# instantiate the api\n",
    "auth = tweepy.OAuthHandler(consumer_key, consumer_secret)\n",
    "auth.set_access_token(access_token, access_token_secret)\n",
    "api = tweepy.API(auth,wait_on_rate_limit=True,wait_on_rate_limit_notify=True)\n",
    "\n",
    "# string to search on twitter\n",
    "query = 'Baghdadi'\n",
    "\n",
    "# open/create a csv file to append data\n",
    "csvFile = open(query + 'training.1600000.processed.noemoticon.csv', 'w', encoding='utf-8')\n",
    "\n",
    "# use csv Writer\n",
    "csvWriter = csv.writer(csvFile)\n",
    "\n",
    "# get data from twitter\n",
    "tweet_num = 0\n",
    "for tweet in tweepy.Cursor(api.search,q=query+ ' -RT',count=10000000,lang=\"en\").items(100):\n",
    "    if tweet.place is not None:\n",
    "        try:\n",
    "            # not entirely necessary but you can inspect what is being written to file\n",
    "            print ('tweet number: {}'.format(tweet_num), tweet.text, tweet.place.full_name)\n",
    "            # write data to csv\n",
    "            csvWriter.writerow([tweet.created_at,\n",
    "                                tweet.user.location,\n",
    "                                tweet.user.followers_count,\n",
    "                                tweet.user.friends_count,\n",
    "                                tweet.text,\n",
    "                                tweet.place.bounding_box.coordinates,\n",
    "                                tweet.place.full_name,\n",
    "                                tweet.place.country,\n",
    "                                tweet.place.country_code,\n",
    "                                tweet.place.place_type])\n",
    "            tweet_num += 1\n",
    "            \n",
    "        except Exception:\n",
    "            pass"
   ]
  },
  {
   "cell_type": "code",
   "execution_count": null,
   "metadata": {},
   "outputs": [],
   "source": []
  }
 ],
 "metadata": {
  "kernelspec": {
   "display_name": "Python 3",
   "language": "python",
   "name": "python3"
  },
  "language_info": {
   "codemirror_mode": {
    "name": "ipython",
    "version": 3
   },
   "file_extension": ".py",
   "mimetype": "text/x-python",
   "name": "python",
   "nbconvert_exporter": "python",
   "pygments_lexer": "ipython3",
   "version": "3.7.4"
  }
 },
 "nbformat": 4,
 "nbformat_minor": 2
}
